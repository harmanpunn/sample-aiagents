{
 "cells": [
  {
   "cell_type": "code",
   "execution_count": 3,
   "metadata": {},
   "outputs": [],
   "source": [
    "import pandas as pd\n",
    "import os\n",
    "from swarm import Swarm, Agent\n",
    "from duckduckgo_search import DDGS\n",
    "from datetime import datetime\n",
    "from dotenv import load_dotenv\n",
    "load_dotenv()\n",
    "\n",
    "\n",
    "import logging\n",
    "logging.basicConfig(level=logging.INFO)\n"
   ]
  },
  {
   "cell_type": "code",
   "execution_count": null,
   "metadata": {},
   "outputs": [],
   "source": [
    "api_key = os.getenv(\"OPENAI_API_KEY\")\n",
    "model_name = os.getenv(\"OPENAI_MODEL_NAME\")\n",
    "base_url = os.getenv(\"OPENAI_BASE_URL\")\n"
   ]
  },
  {
   "cell_type": "code",
   "execution_count": 5,
   "metadata": {},
   "outputs": [],
   "source": [
    "current_date = datetime.now().strftime(\"%Y-%m\")\n",
    "\n",
    "# Initialize Swarm client \n",
    "client = Swarm()\n",
    "\n",
    "# Create Internet Search Tool\n",
    "def get_news_articles(topic):\n",
    "    print(f\"Running DuckDuckGo search for {topic}\")\n",
    "\n",
    "    # Initialize DuckDuckGo search client\n",
    "    ddgs = DDGS()\n",
    "\n",
    "    # Search for news articles\n",
    "    search_results = ddgs.text(f'{topic} {current_date}', max_results=5)\n",
    "\n",
    "    if search_results:\n",
    "        news_results = \"\\n\\n\".join([f\"Title: {result['title']}\\nURL: {result['href']}\\nDescription: {result['body']}\" for result in search_results])\n",
    "        return news_results\n",
    "    else:\n",
    "        return f\"Not able to find any news articles for {topic} on {current_date}\"\n",
    "\n"
   ]
  },
  {
   "cell_type": "code",
   "execution_count": 71,
   "metadata": {},
   "outputs": [],
   "source": [
    "# Create AI Agents\n",
    "\n",
    "# News agent that will fetch news\n",
    "news_agent = Agent(\n",
    "    name=\"News Agent\",\n",
    "    instructions=\"You provide the latest news articles for the given topic using DuckDuckGo search\",\n",
    "    functions=[get_news_articles],\n",
    "    model='llama3.2:latest'\n",
    ")\n",
    "\n",
    "# Editor agent that will edit & summarize the news\n",
    "editor_agent = Agent(\n",
    "    name=\"Editor Agent\",\n",
    "    instructions=\"You provide the edited  version of the news articles so that they can be published. Each story in separate sections.\",\n",
    "    model='llama3.2:latest'\n",
    ")\n"
   ]
  },
  {
   "cell_type": "code",
   "execution_count": 72,
   "metadata": {},
   "outputs": [],
   "source": [
    "# Create the swarm workflow\n",
    "\n",
    "def run_news_workflow(topic):\n",
    "    print(f\"Running news workflow for {topic}\")\n",
    "\n",
    "    news_resposne = client.run(\n",
    "        agent=news_agent,\n",
    "        messages=[{\"role\": \"user\", \"content\": f\"Fetch top news articles about '{topic}' as of {current_date}. Provide titles, URLs, and short summaries.\"}]\n",
    "    )\n",
    "\n",
    "    if not news_resposne.messages:\n",
    "        raise Exception(\"Failed to fetch news. Please try again.\")\n",
    "\n",
    "\n",
    "    news = news_resposne.messages[-1][\"content\"]\n",
    "    print(f\"News fetched for {topic}:\\n{news}\")\n",
    "\n",
    "    editor_response = client.run(\n",
    "        agent=editor_agent,\n",
    "        messages=[{\"role\": \"user\", \"content\": news}]\n",
    "    )\n",
    "\n",
    "    edited_news = editor_response.messages[-1][\"content\"]\n",
    "\n",
    "    return edited_news"
   ]
  },
  {
   "cell_type": "code",
   "execution_count": null,
   "metadata": {},
   "outputs": [],
   "source": [
    "print('\\n\\n Publish ready version \\n\\n',run_news_workflow(\"AI\"))"
   ]
  }
 ],
 "metadata": {
  "kernelspec": {
   "display_name": "Python 3",
   "language": "python",
   "name": "python3"
  },
  "language_info": {
   "codemirror_mode": {
    "name": "ipython",
    "version": 3
   },
   "file_extension": ".py",
   "mimetype": "text/x-python",
   "name": "python",
   "nbconvert_exporter": "python",
   "pygments_lexer": "ipython3",
   "version": "3.11.10"
  }
 },
 "nbformat": 4,
 "nbformat_minor": 2
}
